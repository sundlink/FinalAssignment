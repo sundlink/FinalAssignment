{
 "cells": [
  {
   "cell_type": "markdown",
   "id": "65b538dc-e485-4217-81da-b3736b6b5638",
   "metadata": {},
   "source": [
    "# Data Science Tools and Ecosystem"
   ]
  },
  {
   "cell_type": "markdown",
   "id": "fde72908-5a3c-4b4f-9816-40478f0828e8",
   "metadata": {},
   "source": [
    "In this notebook, Data Science tools and Ecosystem are summarized."
   ]
  },
  {
   "cell_type": "markdown",
   "id": "a4bd02a8-699e-4990-82b5-23ced5e09ff1",
   "metadata": {},
   "source": [
    "**Objectives**\n",
    "- list popular languages for data science\n",
    "- list common libraries for data science\n",
    "- create a table with development environment open source tools"
   ]
  },
  {
   "cell_type": "markdown",
   "id": "65e35305-4857-4bc5-a1cd-8ec9d5e1b600",
   "metadata": {},
   "source": [
    "Some of the popular languages that Data Scientists use are:\n",
    "1. Python\n",
    "2. R\n",
    "3. SQL"
   ]
  },
  {
   "cell_type": "markdown",
   "id": "23baa8bc-0918-4d76-85de-da583d251d39",
   "metadata": {},
   "source": [
    "Some of the commonly used libraries by Data Scientists include:\n",
    "1. NumPy\n",
    "2. TensorFLow\n",
    "3. Pandas"
   ]
  },
  {
   "cell_type": "markdown",
   "id": "49675f08-c567-490c-b8da-a8f3fea2d316",
   "metadata": {},
   "source": [
    "|Data Science Tools|\n",
    "|------------------|\n",
    "|Jupyter|\n",
    "|RStudio|\n",
    "|Apache Zeppelin|\n",
    "\n",
    "\n"
   ]
  },
  {
   "cell_type": "markdown",
   "id": "dfc0d33d-43f4-4c52-a130-8b31445afe82",
   "metadata": {},
   "source": [
    "### Below are a few examples of evaluating arithmetic expressions in Python"
   ]
  },
  {
   "cell_type": "code",
   "execution_count": 2,
   "id": "bb8aeba0-5356-4f1f-a029-0d10bc3c313a",
   "metadata": {
    "tags": []
   },
   "outputs": [
    {
     "data": {
      "text/plain": [
       "17"
      ]
     },
     "execution_count": 2,
     "metadata": {},
     "output_type": "execute_result"
    }
   ],
   "source": [
    "# This is a simple arithmetic expression to multiply then add integers\n",
    "(3*4)+5"
   ]
  },
  {
   "cell_type": "code",
   "execution_count": 3,
   "id": "4474d9aa-fc68-40c7-ba67-d3197ac3a9f3",
   "metadata": {
    "tags": []
   },
   "outputs": [
    {
     "name": "stdout",
     "output_type": "stream",
     "text": [
      "3.3333333333333335\n"
     ]
    }
   ],
   "source": [
    "#This will convert 200 minutes to hours by dividing by 60\n",
    "minutes = 200\n",
    "hours = minutes/60\n",
    "print(hours)"
   ]
  },
  {
   "cell_type": "markdown",
   "id": "807284df-fc64-4f1d-ba62-bbbab827a645",
   "metadata": {},
   "source": [
    "## Author\n",
    "Kaitlyn Sundling"
   ]
  },
  {
   "cell_type": "code",
   "execution_count": null,
   "id": "aecc4338-88a3-4d5f-b37e-20eeb070c2d6",
   "metadata": {},
   "outputs": [],
   "source": []
  }
 ],
 "metadata": {
  "kernelspec": {
   "display_name": "Python",
   "language": "python",
   "name": "conda-env-python-py"
  },
  "language_info": {
   "codemirror_mode": {
    "name": "ipython",
    "version": 3
   },
   "file_extension": ".py",
   "mimetype": "text/x-python",
   "name": "python",
   "nbconvert_exporter": "python",
   "pygments_lexer": "ipython3",
   "version": "3.7.12"
  }
 },
 "nbformat": 4,
 "nbformat_minor": 5
}
